{
  "nbformat": 4,
  "nbformat_minor": 0,
  "metadata": {
    "colab": {
      "name": "splunk_python_samplecode.ipynb",
      "provenance": []
    },
    "kernelspec": {
      "name": "python3",
      "display_name": "Python 3"
    }
  },
  "cells": [
    {
      "cell_type": "code",
      "metadata": {
        "colab": {
          "base_uri": "https://localhost:8080/"
        },
        "id": "R3UQNjbCKdF0",
        "outputId": "b79d7589-5eca-41b1-d9b0-8ce2bde984c0"
      },
      "source": [
        "import requests\n",
        "\n",
        "# サーチ内容をこちらに記載\n",
        "search_list_query = \"\"\"\n",
        "search index=_internal \n",
        "| head 200 \n",
        "| table _time source sourcetype user bytes\n",
        "\"\"\" \n",
        "\n",
        "# curlオプションを記載\n",
        "data = {\n",
        "  'search': search_list_query,\n",
        "  'exec_mode': 'oneshot',\n",
        "  'output_mode': 'json',\n",
        "  'count': '0'   # default だと 100個しかリターンされない\n",
        "}\n",
        "\n",
        "# <splunk-server> 、<user-name>、<passwd>  を変更ください\n",
        "response = requests.post('https://<splunk-server>:8089/services/search/jobs' , data=data, verify=False, auth=(\"<user-name>\", \"<passwd>\"))"
      ],
      "execution_count": 1,
      "outputs": [
        {
          "output_type": "stream",
          "text": [
            "/usr/local/lib/python3.7/dist-packages/urllib3/connectionpool.py:847: InsecureRequestWarning: Unverified HTTPS request is being made. Adding certificate verification is strongly advised. See: https://urllib3.readthedocs.io/en/latest/advanced-usage.html#ssl-warnings\n",
            "  InsecureRequestWarning)\n"
          ],
          "name": "stderr"
        }
      ]
    },
    {
      "cell_type": "code",
      "metadata": {
        "id": "wSNs6_8bLBfj"
      },
      "source": [
        "import pandas as pd\n",
        "result=response.json()['results']\n",
        "df = pd.DataFrame(result)"
      ],
      "execution_count": 2,
      "outputs": []
    },
    {
      "cell_type": "code",
      "metadata": {
        "colab": {
          "base_uri": "https://localhost:8080/",
          "height": 419
        },
        "id": "XAt3usroLd-M",
        "outputId": "45f94b4d-baa6-487c-d068-cefab6b9babc"
      },
      "source": [
        "df"
      ],
      "execution_count": 3,
      "outputs": [
        {
          "output_type": "execute_result",
          "data": {
            "text/html": [
              "<div>\n",
              "<style scoped>\n",
              "    .dataframe tbody tr th:only-of-type {\n",
              "        vertical-align: middle;\n",
              "    }\n",
              "\n",
              "    .dataframe tbody tr th {\n",
              "        vertical-align: top;\n",
              "    }\n",
              "\n",
              "    .dataframe thead th {\n",
              "        text-align: right;\n",
              "    }\n",
              "</style>\n",
              "<table border=\"1\" class=\"dataframe\">\n",
              "  <thead>\n",
              "    <tr style=\"text-align: right;\">\n",
              "      <th></th>\n",
              "      <th>_time</th>\n",
              "      <th>source</th>\n",
              "      <th>sourcetype</th>\n",
              "      <th>user</th>\n",
              "      <th>bytes</th>\n",
              "    </tr>\n",
              "  </thead>\n",
              "  <tbody>\n",
              "    <tr>\n",
              "      <th>0</th>\n",
              "      <td>2021-02-27T11:07:08.902+09:00</td>\n",
              "      <td>/opt/splunk/var/log/splunk/splunkd_access.log</td>\n",
              "      <td>splunkd_access</td>\n",
              "      <td>splunk-system-user</td>\n",
              "      <td>32453</td>\n",
              "    </tr>\n",
              "    <tr>\n",
              "      <th>1</th>\n",
              "      <td>2021-02-27T11:07:08.339+09:00</td>\n",
              "      <td>/opt/splunk/var/log/splunk/mlspl.log</td>\n",
              "      <td>mlspl-too_small</td>\n",
              "      <td>NaN</td>\n",
              "      <td>NaN</td>\n",
              "    </tr>\n",
              "    <tr>\n",
              "      <th>2</th>\n",
              "      <td>2021-02-27T11:07:08.339+09:00</td>\n",
              "      <td>/opt/splunk/var/log/splunk/mlspl.log</td>\n",
              "      <td>mlspl-too_small</td>\n",
              "      <td>NaN</td>\n",
              "      <td>NaN</td>\n",
              "    </tr>\n",
              "    <tr>\n",
              "      <th>3</th>\n",
              "      <td>2021-02-27T11:07:08.035+09:00</td>\n",
              "      <td>/opt/splunk/var/log/splunk/splunkd_access.log</td>\n",
              "      <td>splunkd_access</td>\n",
              "      <td>splunk-system-user</td>\n",
              "      <td>71326</td>\n",
              "    </tr>\n",
              "    <tr>\n",
              "      <th>4</th>\n",
              "      <td>2021-02-27T11:07:07.897+09:00</td>\n",
              "      <td>/opt/splunk/var/log/splunk/mlspl.log</td>\n",
              "      <td>mlspl-too_small</td>\n",
              "      <td>NaN</td>\n",
              "      <td>NaN</td>\n",
              "    </tr>\n",
              "    <tr>\n",
              "      <th>...</th>\n",
              "      <td>...</td>\n",
              "      <td>...</td>\n",
              "      <td>...</td>\n",
              "      <td>...</td>\n",
              "      <td>...</td>\n",
              "    </tr>\n",
              "    <tr>\n",
              "      <th>195</th>\n",
              "      <td>2021-02-27T11:07:03.060+09:00</td>\n",
              "      <td>/opt/splunk/var/log/splunk/metrics.log</td>\n",
              "      <td>splunkd</td>\n",
              "      <td>NaN</td>\n",
              "      <td>NaN</td>\n",
              "    </tr>\n",
              "    <tr>\n",
              "      <th>196</th>\n",
              "      <td>2021-02-27T11:07:03.060+09:00</td>\n",
              "      <td>/opt/splunk/var/log/splunk/metrics.log</td>\n",
              "      <td>splunkd</td>\n",
              "      <td>NaN</td>\n",
              "      <td>NaN</td>\n",
              "    </tr>\n",
              "    <tr>\n",
              "      <th>197</th>\n",
              "      <td>2021-02-27T11:07:03.060+09:00</td>\n",
              "      <td>/opt/splunk/var/log/splunk/metrics.log</td>\n",
              "      <td>splunkd</td>\n",
              "      <td>NaN</td>\n",
              "      <td>NaN</td>\n",
              "    </tr>\n",
              "    <tr>\n",
              "      <th>198</th>\n",
              "      <td>2021-02-27T11:07:03.060+09:00</td>\n",
              "      <td>/opt/splunk/var/log/splunk/metrics.log</td>\n",
              "      <td>splunkd</td>\n",
              "      <td>NaN</td>\n",
              "      <td>NaN</td>\n",
              "    </tr>\n",
              "    <tr>\n",
              "      <th>199</th>\n",
              "      <td>2021-02-27T11:07:03.060+09:00</td>\n",
              "      <td>/opt/splunk/var/log/splunk/metrics.log</td>\n",
              "      <td>splunkd</td>\n",
              "      <td>NaN</td>\n",
              "      <td>NaN</td>\n",
              "    </tr>\n",
              "  </tbody>\n",
              "</table>\n",
              "<p>200 rows × 5 columns</p>\n",
              "</div>"
            ],
            "text/plain": [
              "                             _time  ...  bytes\n",
              "0    2021-02-27T11:07:08.902+09:00  ...  32453\n",
              "1    2021-02-27T11:07:08.339+09:00  ...    NaN\n",
              "2    2021-02-27T11:07:08.339+09:00  ...    NaN\n",
              "3    2021-02-27T11:07:08.035+09:00  ...  71326\n",
              "4    2021-02-27T11:07:07.897+09:00  ...    NaN\n",
              "..                             ...  ...    ...\n",
              "195  2021-02-27T11:07:03.060+09:00  ...    NaN\n",
              "196  2021-02-27T11:07:03.060+09:00  ...    NaN\n",
              "197  2021-02-27T11:07:03.060+09:00  ...    NaN\n",
              "198  2021-02-27T11:07:03.060+09:00  ...    NaN\n",
              "199  2021-02-27T11:07:03.060+09:00  ...    NaN\n",
              "\n",
              "[200 rows x 5 columns]"
            ]
          },
          "metadata": {
            "tags": []
          },
          "execution_count": 3
        }
      ]
    },
    {
      "cell_type": "code",
      "metadata": {
        "id": "rHkm2Pk4LneW"
      },
      "source": [
        ""
      ],
      "execution_count": null,
      "outputs": []
    }
  ]
}