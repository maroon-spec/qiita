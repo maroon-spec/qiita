{
 "cells": [
  {
   "cell_type": "markdown",
   "metadata": {},
   "source": [
    "# Deep Learning Toolkit for Splunk - Notebook for TensorFlow 2.0"
   ]
  },
  {
   "cell_type": "markdown",
   "metadata": {},
   "source": [
    "## Neural Network for Binary Classification\n",
    "This notebook contains an example workflow how to work on custom containerized code that seamlessly interfaces with the Deep Learning Toolkit for Splunk. As an example we use a custom binary neural network classifier built on keras and tensorflow."
   ]
  },
  {
   "cell_type": "markdown",
   "metadata": {},
   "source": [
    "Note: By default every time you save this notebook the cells are exported into a python module which is then invoked by Splunk MLTK commands like <code> | fit ... | apply ... | summary </code>. Please read the Model Development Guide in the Deep Learning Toolkit app for more information."
   ]
  },
  {
   "cell_type": "markdown",
   "metadata": {},
   "source": [
    "## Stage 0 - import libraries\n",
    "At stage 0 we define all imports necessary to run our subsequent code depending on various libraries."
   ]
  },
  {
   "cell_type": "code",
   "execution_count": 6,
   "metadata": {},
   "outputs": [
    {
     "name": "stdout",
     "output_type": "stream",
     "text": [
      "Collecting keras\n",
      "\u001b[?25l  Downloading https://files.pythonhosted.org/packages/ad/fd/6bfe87920d7f4fd475acd28500a42482b6b84479832bdc0fe9e589a60ceb/Keras-2.3.1-py2.py3-none-any.whl (377kB)\n",
      "\u001b[K     |████████████████████████████████| 378kB 2.9MB/s eta 0:00:01\n",
      "\u001b[?25hCollecting pyyaml (from keras)\n",
      "\u001b[?25l  Downloading https://files.pythonhosted.org/packages/64/c2/b80047c7ac2478f9501676c988a5411ed5572f35d1beff9cae07d321512c/PyYAML-5.3.1.tar.gz (269kB)\n",
      "\u001b[K     |████████████████████████████████| 276kB 9.1MB/s eta 0:00:01\n",
      "\u001b[?25hRequirement already satisfied: keras-applications>=1.0.6 in /usr/local/lib/python3.6/dist-packages (from keras) (1.0.8)\n",
      "Requirement already satisfied: h5py in /usr/local/lib/python3.6/dist-packages (from keras) (2.9.0)\n",
      "Requirement already satisfied: numpy>=1.9.1 in /usr/local/lib/python3.6/dist-packages (from keras) (1.16.4)\n",
      "Requirement already satisfied: keras-preprocessing>=1.0.5 in /usr/local/lib/python3.6/dist-packages (from keras) (1.1.0)\n",
      "Requirement already satisfied: six>=1.9.0 in /usr/lib/python3/dist-packages (from keras) (1.11.0)\n",
      "Requirement already satisfied: scipy>=0.14 in /usr/local/lib/python3.6/dist-packages (from keras) (1.3.1)\n",
      "Building wheels for collected packages: pyyaml\n",
      "  Building wheel for pyyaml (setup.py) ... \u001b[?25ldone\n",
      "\u001b[?25h  Stored in directory: /root/.cache/pip/wheels/a7/c1/ea/cf5bd31012e735dc1dfea3131a2d5eae7978b251083d6247bd\n",
      "Successfully built pyyaml\n",
      "Installing collected packages: pyyaml, keras\n",
      "Successfully installed keras-2.3.1 pyyaml-5.3.1\n",
      "\u001b[33mWARNING: You are using pip version 19.1.1, however version 20.1 is available.\n",
      "You should consider upgrading via the 'pip install --upgrade pip' command.\u001b[0m\n"
     ]
    }
   ],
   "source": [
    "!pip install keras"
   ]
  },
  {
   "cell_type": "code",
   "execution_count": 27,
   "metadata": {
    "deletable": false,
    "name": "mltkc_import"
   },
   "outputs": [],
   "source": [
    "# mltkc_import\n",
    "# this definition exposes all python module imports that should be available in all subsequent commands\n",
    "import json\n",
    "import datetime\n",
    "import numpy as np\n",
    "import pandas as pd\n",
    "import tensorflow as tf\n",
    "from tensorflow import keras\n",
    "from keras.callbacks import EarlyStopping\n",
    "from keras import regularizers\n",
    "from keras import optimizers\n",
    "\n",
    "# global constants\n",
    "MODEL_DIRECTORY = \"/srv/app/model/data/\""
   ]
  },
  {
   "cell_type": "code",
   "execution_count": 2,
   "metadata": {},
   "outputs": [
    {
     "name": "stdout",
     "output_type": "stream",
     "text": [
      "numpy version: 1.16.4\n",
      "pandas version: 0.25.1\n",
      "TensorFlow version: 2.0.0-beta1\n",
      "Keras version: 2.2.4-tf\n"
     ]
    }
   ],
   "source": [
    "# THIS CELL IS NOT EXPORTED - free notebook cell for testing purposes\n",
    "print(\"numpy version: \" + np.__version__)\n",
    "print(\"pandas version: \" + pd.__version__)\n",
    "print(\"TensorFlow version: \" + tf.__version__)\n",
    "print(\"Keras version: \" + keras.__version__)"
   ]
  },
  {
   "cell_type": "markdown",
   "metadata": {},
   "source": [
    "## Stage 1 - get a data sample from Splunk\n",
    "In Splunk run a search to pipe a prepared dataset into this environment."
   ]
  },
  {
   "cell_type": "markdown",
   "metadata": {},
   "source": [
    "| inputlookup  titanic-train.csv\n",
    "| fit Imputer Age strategy=mean | eval Age = round(Imputed_Age / 90,1)  | fields - Imputed_Age\n",
    "| search Embarked = * \n",
    "| eval SibSp = case(SibSp=0,\"S0\", SibSp=1,\"S1\", SibSp=2,\"S2\", SibSp=3,\"S3\", SibSp=4,\"S4\", SibSp=5,\"S5\",1=1,\"S_More\")\n",
    "| eval Parch = case(Parch=0,\"P0\", Parch=1,\"P1\", Parch=2,\"P2\", Parch=3,\"P3\", Parch=4,\"P4\", Parch=5,\"P5\",1=1,\"P_More\")\n",
    "| eventstats max(Fare) as max_Fare\n",
    "| eval Fare =  round(Fare/max_Fare,1) | eval Fare = \"F_\" + Fare, Age = \"Age_\" + Age  | fields - max_Fare\n",
    "| rex field=Name \"\\,\\s(?<title>\\w+)\"  | fields - Name \n",
    "| eval title = case(title=\"Mr\",\"Mr\", title=\"Miss\", \"Miss\", title=\"Mrs\",\"Mrs\",title=\"Master\",\"Mastar\",1=1,\"Other\")\n",
    "| rex field=Ticket \"(?<TicketNo>\\d+)$\" | fields - Ticket\n",
    "| bin TicketNo span=100000\n",
    "| eval TicketNo = case(TicketNo=\"0-100000\",\"No0\", TicketNo=\"100000-200000\", \"No100000\", TicketNo=\"200000-300000\", \"No200000\",TicketNo=\"300000-400000\",\"No300000\",1=1,\"NoOther\")\n",
    "| rex field=Cabin \"(?<Cabin>\\w)\" \n",
    "| eval Cabin = case(Cabin=\"T\",\"Cabin_Unknown\",Cabin=\"C\",\"Cabin_C\", isnull(Cabin),\"Cabin_Unknown\",1=1,Cabin)\n",
    "| eval {Pclass} = 1, {Sex} = 1, {Embarked} =1, {title}=1, {Cabin} = 1, {TicketNo}=1, {SibSp}=1,{Parch}=1, {Fare} =1, {Age} = 1\n",
    "| fillnull\n",
    "| fields - Pclass, Sex, Embarked, title, count, Cabin, TicketNo, Fare, SibSp, Parch,Age, PassengerId, \"Age_0.9\"\n",
    "| fit MLTKContainer mode=stage algo=mytitanic3 Survived from * into app:mytitanic3_model"
   ]
  },
  {
   "cell_type": "markdown",
   "metadata": {},
   "source": [
    "After you run this search your data set sample is available as a csv inside the container to develop your model. The name is taken from the into keyword (\"my_model\" in the example above) or set to \"default\" if no into keyword is present. This step is intended to work with a subset of your data to create your custom model."
   ]
  },
  {
   "cell_type": "code",
   "execution_count": 3,
   "metadata": {
    "deletable": false,
    "name": "mltkc_stage"
   },
   "outputs": [],
   "source": [
    "# mltkc_stage\n",
    "# this cell is not executed from MLTK and should only be used for staging data into the notebook environment\n",
    "def stage(name):\n",
    "    with open(\"data/\"+name+\".csv\", 'r') as f:\n",
    "        df = pd.read_csv(f)\n",
    "    with open(\"data/\"+name+\".json\", 'r') as f:\n",
    "        param = json.load(f)\n",
    "    return df, param"
   ]
  },
  {
   "cell_type": "code",
   "execution_count": 4,
   "metadata": {},
   "outputs": [
    {
     "name": "stdout",
     "output_type": "stream",
     "text": [
      "   Survived  3  male  S  Mr  Cabin_Unknown  No0  S1  P0  F_0.0  ...  S2  S5  \\\n",
      "0         0  1     1  1   1              1    1   1   1      1  ...   0   0   \n",
      "\n",
      "   F  P3  Age_0.8  S_More  P4  F_1.0  F_0.4  P_More  \n",
      "0  0   0        0       0   0      0      0       0  \n",
      "\n",
      "[1 rows x 57 columns]\n",
      "(889, 57)\n",
      "{'options': {'params': {'mode': 'stage', 'algo': 'mytitanic3'}, 'args': ['Survived', '*'], 'target_variable': ['Survived'], 'feature_variables': ['*'], 'model_name': 'mytitanic3_model', 'algo_name': 'MLTKContainer', 'mlspl_limits': {'handle_new_cat': 'default', 'max_distinct_cat_values': '100', 'max_distinct_cat_values_for_classifiers': '100', 'max_distinct_cat_values_for_scoring': '100', 'max_fit_time': '600', 'max_inputs': '100000', 'max_memory_usage_mb': '1000', 'max_model_size_mb': '15', 'max_score_time': '600', 'streaming_apply': 'false', 'use_sampling': 'true'}, 'kfold_cv': None}, 'feature_variables': ['3', 'male', 'S', 'Mr', 'Cabin_Unknown', 'No0', 'S1', 'P0', 'F_0.0', 'Age_0.2', '1', 'female', 'C', 'Mrs', 'Cabin_C', 'F_0.1', 'Age_0.4', 'Miss', 'NoOther', 'S0', 'Age_0.3', 'No100000', 'No300000', 'Q', 'E', 'Age_0.6', 'Mastar', 'S3', 'P1', 'Age_0.0', 'P2', '2', 'No200000', 'G', 'P5', 'S4', 'D', 'A', 'Age_0.1', 'F_0.5', 'Other', 'B', 'F_0.3', 'Age_0.7', 'F_0.2', 'Age_0.5', 'S2', 'S5', 'F', 'P3', 'Age_0.8', 'S_More', 'P4', 'F_1.0', 'F_0.4', 'P_More'], 'target_variables': ['Survived']}\n"
     ]
    }
   ],
   "source": [
    "# THIS CELL IS NOT EXPORTED - free notebook cell for testing purposes\n",
    "df, param = stage(\"mytitanic3_model\")\n",
    "print(df[0:1])\n",
    "print(df.shape)\n",
    "print(str(param))"
   ]
  },
  {
   "cell_type": "code",
   "execution_count": 5,
   "metadata": {},
   "outputs": [
    {
     "data": {
      "text/html": [
       "<div>\n",
       "<style scoped>\n",
       "    .dataframe tbody tr th:only-of-type {\n",
       "        vertical-align: middle;\n",
       "    }\n",
       "\n",
       "    .dataframe tbody tr th {\n",
       "        vertical-align: top;\n",
       "    }\n",
       "\n",
       "    .dataframe thead th {\n",
       "        text-align: right;\n",
       "    }\n",
       "</style>\n",
       "<table border=\"1\" class=\"dataframe\">\n",
       "  <thead>\n",
       "    <tr style=\"text-align: right;\">\n",
       "      <th></th>\n",
       "      <th>Survived</th>\n",
       "      <th>3</th>\n",
       "      <th>male</th>\n",
       "      <th>S</th>\n",
       "      <th>Mr</th>\n",
       "      <th>Cabin_Unknown</th>\n",
       "      <th>No0</th>\n",
       "      <th>S1</th>\n",
       "      <th>P0</th>\n",
       "      <th>F_0.0</th>\n",
       "      <th>...</th>\n",
       "      <th>S2</th>\n",
       "      <th>S5</th>\n",
       "      <th>F</th>\n",
       "      <th>P3</th>\n",
       "      <th>Age_0.8</th>\n",
       "      <th>S_More</th>\n",
       "      <th>P4</th>\n",
       "      <th>F_1.0</th>\n",
       "      <th>F_0.4</th>\n",
       "      <th>P_More</th>\n",
       "    </tr>\n",
       "  </thead>\n",
       "  <tbody>\n",
       "    <tr>\n",
       "      <td>0</td>\n",
       "      <td>0</td>\n",
       "      <td>1</td>\n",
       "      <td>1</td>\n",
       "      <td>1</td>\n",
       "      <td>1</td>\n",
       "      <td>1</td>\n",
       "      <td>1</td>\n",
       "      <td>1</td>\n",
       "      <td>1</td>\n",
       "      <td>1</td>\n",
       "      <td>...</td>\n",
       "      <td>0</td>\n",
       "      <td>0</td>\n",
       "      <td>0</td>\n",
       "      <td>0</td>\n",
       "      <td>0</td>\n",
       "      <td>0</td>\n",
       "      <td>0</td>\n",
       "      <td>0</td>\n",
       "      <td>0</td>\n",
       "      <td>0</td>\n",
       "    </tr>\n",
       "    <tr>\n",
       "      <td>1</td>\n",
       "      <td>1</td>\n",
       "      <td>0</td>\n",
       "      <td>0</td>\n",
       "      <td>0</td>\n",
       "      <td>0</td>\n",
       "      <td>0</td>\n",
       "      <td>1</td>\n",
       "      <td>1</td>\n",
       "      <td>1</td>\n",
       "      <td>0</td>\n",
       "      <td>...</td>\n",
       "      <td>0</td>\n",
       "      <td>0</td>\n",
       "      <td>0</td>\n",
       "      <td>0</td>\n",
       "      <td>0</td>\n",
       "      <td>0</td>\n",
       "      <td>0</td>\n",
       "      <td>0</td>\n",
       "      <td>0</td>\n",
       "      <td>0</td>\n",
       "    </tr>\n",
       "    <tr>\n",
       "      <td>2</td>\n",
       "      <td>1</td>\n",
       "      <td>1</td>\n",
       "      <td>0</td>\n",
       "      <td>1</td>\n",
       "      <td>0</td>\n",
       "      <td>1</td>\n",
       "      <td>0</td>\n",
       "      <td>0</td>\n",
       "      <td>1</td>\n",
       "      <td>1</td>\n",
       "      <td>...</td>\n",
       "      <td>0</td>\n",
       "      <td>0</td>\n",
       "      <td>0</td>\n",
       "      <td>0</td>\n",
       "      <td>0</td>\n",
       "      <td>0</td>\n",
       "      <td>0</td>\n",
       "      <td>0</td>\n",
       "      <td>0</td>\n",
       "      <td>0</td>\n",
       "    </tr>\n",
       "    <tr>\n",
       "      <td>3</td>\n",
       "      <td>1</td>\n",
       "      <td>0</td>\n",
       "      <td>0</td>\n",
       "      <td>1</td>\n",
       "      <td>0</td>\n",
       "      <td>0</td>\n",
       "      <td>0</td>\n",
       "      <td>1</td>\n",
       "      <td>1</td>\n",
       "      <td>0</td>\n",
       "      <td>...</td>\n",
       "      <td>0</td>\n",
       "      <td>0</td>\n",
       "      <td>0</td>\n",
       "      <td>0</td>\n",
       "      <td>0</td>\n",
       "      <td>0</td>\n",
       "      <td>0</td>\n",
       "      <td>0</td>\n",
       "      <td>0</td>\n",
       "      <td>0</td>\n",
       "    </tr>\n",
       "    <tr>\n",
       "      <td>4</td>\n",
       "      <td>0</td>\n",
       "      <td>1</td>\n",
       "      <td>1</td>\n",
       "      <td>1</td>\n",
       "      <td>1</td>\n",
       "      <td>1</td>\n",
       "      <td>0</td>\n",
       "      <td>0</td>\n",
       "      <td>1</td>\n",
       "      <td>1</td>\n",
       "      <td>...</td>\n",
       "      <td>0</td>\n",
       "      <td>0</td>\n",
       "      <td>0</td>\n",
       "      <td>0</td>\n",
       "      <td>0</td>\n",
       "      <td>0</td>\n",
       "      <td>0</td>\n",
       "      <td>0</td>\n",
       "      <td>0</td>\n",
       "      <td>0</td>\n",
       "    </tr>\n",
       "    <tr>\n",
       "      <td>...</td>\n",
       "      <td>...</td>\n",
       "      <td>...</td>\n",
       "      <td>...</td>\n",
       "      <td>...</td>\n",
       "      <td>...</td>\n",
       "      <td>...</td>\n",
       "      <td>...</td>\n",
       "      <td>...</td>\n",
       "      <td>...</td>\n",
       "      <td>...</td>\n",
       "      <td>...</td>\n",
       "      <td>...</td>\n",
       "      <td>...</td>\n",
       "      <td>...</td>\n",
       "      <td>...</td>\n",
       "      <td>...</td>\n",
       "      <td>...</td>\n",
       "      <td>...</td>\n",
       "      <td>...</td>\n",
       "      <td>...</td>\n",
       "      <td>...</td>\n",
       "    </tr>\n",
       "    <tr>\n",
       "      <td>884</td>\n",
       "      <td>0</td>\n",
       "      <td>0</td>\n",
       "      <td>1</td>\n",
       "      <td>1</td>\n",
       "      <td>0</td>\n",
       "      <td>1</td>\n",
       "      <td>0</td>\n",
       "      <td>0</td>\n",
       "      <td>1</td>\n",
       "      <td>1</td>\n",
       "      <td>...</td>\n",
       "      <td>0</td>\n",
       "      <td>0</td>\n",
       "      <td>0</td>\n",
       "      <td>0</td>\n",
       "      <td>0</td>\n",
       "      <td>0</td>\n",
       "      <td>0</td>\n",
       "      <td>0</td>\n",
       "      <td>0</td>\n",
       "      <td>0</td>\n",
       "    </tr>\n",
       "    <tr>\n",
       "      <td>885</td>\n",
       "      <td>1</td>\n",
       "      <td>0</td>\n",
       "      <td>0</td>\n",
       "      <td>1</td>\n",
       "      <td>0</td>\n",
       "      <td>0</td>\n",
       "      <td>0</td>\n",
       "      <td>0</td>\n",
       "      <td>1</td>\n",
       "      <td>0</td>\n",
       "      <td>...</td>\n",
       "      <td>0</td>\n",
       "      <td>0</td>\n",
       "      <td>0</td>\n",
       "      <td>0</td>\n",
       "      <td>0</td>\n",
       "      <td>0</td>\n",
       "      <td>0</td>\n",
       "      <td>0</td>\n",
       "      <td>0</td>\n",
       "      <td>0</td>\n",
       "    </tr>\n",
       "    <tr>\n",
       "      <td>886</td>\n",
       "      <td>0</td>\n",
       "      <td>1</td>\n",
       "      <td>0</td>\n",
       "      <td>1</td>\n",
       "      <td>0</td>\n",
       "      <td>1</td>\n",
       "      <td>1</td>\n",
       "      <td>1</td>\n",
       "      <td>0</td>\n",
       "      <td>1</td>\n",
       "      <td>...</td>\n",
       "      <td>0</td>\n",
       "      <td>0</td>\n",
       "      <td>0</td>\n",
       "      <td>0</td>\n",
       "      <td>0</td>\n",
       "      <td>0</td>\n",
       "      <td>0</td>\n",
       "      <td>0</td>\n",
       "      <td>0</td>\n",
       "      <td>0</td>\n",
       "    </tr>\n",
       "    <tr>\n",
       "      <td>887</td>\n",
       "      <td>1</td>\n",
       "      <td>0</td>\n",
       "      <td>1</td>\n",
       "      <td>0</td>\n",
       "      <td>1</td>\n",
       "      <td>0</td>\n",
       "      <td>0</td>\n",
       "      <td>0</td>\n",
       "      <td>1</td>\n",
       "      <td>0</td>\n",
       "      <td>...</td>\n",
       "      <td>0</td>\n",
       "      <td>0</td>\n",
       "      <td>0</td>\n",
       "      <td>0</td>\n",
       "      <td>0</td>\n",
       "      <td>0</td>\n",
       "      <td>0</td>\n",
       "      <td>0</td>\n",
       "      <td>0</td>\n",
       "      <td>0</td>\n",
       "    </tr>\n",
       "    <tr>\n",
       "      <td>888</td>\n",
       "      <td>0</td>\n",
       "      <td>1</td>\n",
       "      <td>1</td>\n",
       "      <td>0</td>\n",
       "      <td>1</td>\n",
       "      <td>1</td>\n",
       "      <td>0</td>\n",
       "      <td>0</td>\n",
       "      <td>1</td>\n",
       "      <td>1</td>\n",
       "      <td>...</td>\n",
       "      <td>0</td>\n",
       "      <td>0</td>\n",
       "      <td>0</td>\n",
       "      <td>0</td>\n",
       "      <td>0</td>\n",
       "      <td>0</td>\n",
       "      <td>0</td>\n",
       "      <td>0</td>\n",
       "      <td>0</td>\n",
       "      <td>0</td>\n",
       "    </tr>\n",
       "  </tbody>\n",
       "</table>\n",
       "<p>889 rows × 57 columns</p>\n",
       "</div>"
      ],
      "text/plain": [
       "     Survived  3  male  S  Mr  Cabin_Unknown  No0  S1  P0  F_0.0  ...  S2  S5  \\\n",
       "0           0  1     1  1   1              1    1   1   1      1  ...   0   0   \n",
       "1           1  0     0  0   0              0    1   1   1      0  ...   0   0   \n",
       "2           1  1     0  1   0              1    0   0   1      1  ...   0   0   \n",
       "3           1  0     0  1   0              0    0   1   1      0  ...   0   0   \n",
       "4           0  1     1  1   1              1    0   0   1      1  ...   0   0   \n",
       "..        ... ..   ... ..  ..            ...  ...  ..  ..    ...  ...  ..  ..   \n",
       "884         0  0     1  1   0              1    0   0   1      1  ...   0   0   \n",
       "885         1  0     0  1   0              0    0   0   1      0  ...   0   0   \n",
       "886         0  1     0  1   0              1    1   1   0      1  ...   0   0   \n",
       "887         1  0     1  0   1              0    0   0   1      0  ...   0   0   \n",
       "888         0  1     1  0   1              1    0   0   1      1  ...   0   0   \n",
       "\n",
       "     F  P3  Age_0.8  S_More  P4  F_1.0  F_0.4  P_More  \n",
       "0    0   0        0       0   0      0      0       0  \n",
       "1    0   0        0       0   0      0      0       0  \n",
       "2    0   0        0       0   0      0      0       0  \n",
       "3    0   0        0       0   0      0      0       0  \n",
       "4    0   0        0       0   0      0      0       0  \n",
       "..  ..  ..      ...     ...  ..    ...    ...     ...  \n",
       "884  0   0        0       0   0      0      0       0  \n",
       "885  0   0        0       0   0      0      0       0  \n",
       "886  0   0        0       0   0      0      0       0  \n",
       "887  0   0        0       0   0      0      0       0  \n",
       "888  0   0        0       0   0      0      0       0  \n",
       "\n",
       "[889 rows x 57 columns]"
      ]
     },
     "execution_count": 5,
     "metadata": {},
     "output_type": "execute_result"
    }
   ],
   "source": [
    "df"
   ]
  },
  {
   "cell_type": "markdown",
   "metadata": {},
   "source": [
    "## Stage 2 - create and initialize a model"
   ]
  },
  {
   "cell_type": "code",
   "execution_count": 38,
   "metadata": {
    "deletable": false,
    "name": "mltkc_init"
   },
   "outputs": [],
   "source": [
    "# mltkc_init\n",
    "# initialize the model\n",
    "# params: data and parameters\n",
    "# returns the model object which will be used as a reference to call fit, apply and summary subsequently\n",
    "def init(df,param):            \n",
    "    X = df[param['feature_variables']]\n",
    "    print(\"FIT build model with input shape \" + str(X.shape))\n",
    "    input_shape = int(X.shape[1])\n",
    "    model = keras.Sequential()\n",
    "    model.add(keras.layers.Dense(input_shape*2, input_dim=input_shape, activation=tf.nn.relu,\n",
    "                                kernel_initializer='random_uniform'))\n",
    "    model.add(keras.layers.Dense(32, activation=tf.nn.relu))\n",
    "    model.add(keras.layers.BatchNormalization())\n",
    "    model.add(keras.layers.Dropout(0.4))\n",
    "    model.add(keras.layers.Dense(32, activation=tf.nn.relu))\n",
    "    model.add(keras.layers.BatchNormalization())\n",
    "    model.add(keras.layers.Dropout(0.4))\n",
    "    model.add(keras.layers.Dense(32, activation=tf.nn.relu))\n",
    "    model.add(keras.layers.BatchNormalization())\n",
    "    model.add(keras.layers.Dropout(0.4))\n",
    "    model.add(keras.layers.Dense(32, activation=tf.nn.relu))\n",
    "    model.add(keras.layers.BatchNormalization())\n",
    "    model.add(keras.layers.Dropout(0.4))\n",
    "    model.add(keras.layers.Dense(32, activation=tf.nn.relu))\n",
    "    model.add(keras.layers.BatchNormalization())\n",
    "    model.add(keras.layers.Dropout(0.4))\n",
    "    model.add(keras.layers.Dense(32, activation=tf.nn.relu))\n",
    "    model.add(keras.layers.Dense(32, activation=tf.nn.relu))\n",
    "    model.add(keras.layers.Dense(1, activation=tf.nn.sigmoid))\n",
    "    model.compile(loss='binary_crossentropy', optimizer='adam', metrics=['accuracy'])\n",
    "    return model"
   ]
  },
  {
   "cell_type": "code",
   "execution_count": 39,
   "metadata": {
    "scrolled": true
   },
   "outputs": [
    {
     "name": "stdout",
     "output_type": "stream",
     "text": [
      "FIT build model with input shape (889, 56)\n",
      "Model: \"sequential_7\"\n",
      "_________________________________________________________________\n",
      "Layer (type)                 Output Shape              Param #   \n",
      "=================================================================\n",
      "dense_63 (Dense)             (None, 112)               6384      \n",
      "_________________________________________________________________\n",
      "dense_64 (Dense)             (None, 32)                3616      \n",
      "_________________________________________________________________\n",
      "batch_normalization_35 (Batc (None, 32)                128       \n",
      "_________________________________________________________________\n",
      "dropout_35 (Dropout)         (None, 32)                0         \n",
      "_________________________________________________________________\n",
      "dense_65 (Dense)             (None, 32)                1056      \n",
      "_________________________________________________________________\n",
      "batch_normalization_36 (Batc (None, 32)                128       \n",
      "_________________________________________________________________\n",
      "dropout_36 (Dropout)         (None, 32)                0         \n",
      "_________________________________________________________________\n",
      "dense_66 (Dense)             (None, 32)                1056      \n",
      "_________________________________________________________________\n",
      "batch_normalization_37 (Batc (None, 32)                128       \n",
      "_________________________________________________________________\n",
      "dropout_37 (Dropout)         (None, 32)                0         \n",
      "_________________________________________________________________\n",
      "dense_67 (Dense)             (None, 32)                1056      \n",
      "_________________________________________________________________\n",
      "batch_normalization_38 (Batc (None, 32)                128       \n",
      "_________________________________________________________________\n",
      "dropout_38 (Dropout)         (None, 32)                0         \n",
      "_________________________________________________________________\n",
      "dense_68 (Dense)             (None, 32)                1056      \n",
      "_________________________________________________________________\n",
      "batch_normalization_39 (Batc (None, 32)                128       \n",
      "_________________________________________________________________\n",
      "dropout_39 (Dropout)         (None, 32)                0         \n",
      "_________________________________________________________________\n",
      "dense_69 (Dense)             (None, 32)                1056      \n",
      "_________________________________________________________________\n",
      "dense_70 (Dense)             (None, 32)                1056      \n",
      "_________________________________________________________________\n",
      "dense_71 (Dense)             (None, 1)                 33        \n",
      "=================================================================\n",
      "Total params: 17,009\n",
      "Trainable params: 16,689\n",
      "Non-trainable params: 320\n",
      "_________________________________________________________________\n",
      "None\n"
     ]
    }
   ],
   "source": [
    "# test mltkc_stage_create_model\n",
    "model = init(df,param)\n",
    "print(model.summary())"
   ]
  },
  {
   "cell_type": "code",
   "execution_count": 8,
   "metadata": {},
   "outputs": [
    {
     "data": {
      "text/plain": [
       "(889, 57)"
      ]
     },
     "execution_count": 8,
     "metadata": {},
     "output_type": "execute_result"
    }
   ],
   "source": [
    "df.shape"
   ]
  },
  {
   "cell_type": "markdown",
   "metadata": {},
   "source": [
    "## Stage 3 - fit the model"
   ]
  },
  {
   "cell_type": "code",
   "execution_count": 36,
   "metadata": {
    "deletable": false,
    "name": "mltkc_fit"
   },
   "outputs": [],
   "source": [
    "# mltkc_stage_create_model_fit\n",
    "# returns a fit info json object\n",
    "def fit(model,df,param):\n",
    "    returns = {}            \n",
    "    X = df[param['feature_variables']]\n",
    "    Y = df[param['target_variables']]\n",
    "    \n",
    "    X_train, X_val = np.vsplit(X, [int(X.shape[0] * 0.8)])\n",
    "    Y_train, Y_val = np.vsplit(Y, [int(Y.shape[0] * 0.8)])\n",
    "    \n",
    "    model_epochs = 300\n",
    "    model_batch_size = 10\n",
    "    if 'options' in param:\n",
    "        if 'params' in param['options']:\n",
    "            if 'epochs' in param['options']['params']:\n",
    "                model_epochs = int(param['options']['params']['epochs'])\n",
    "            if 'batch_size' in param['options']['params']:\n",
    "                model_batch_size = int(param['options']['params']['batch_size'])\n",
    "    # connect model training to tensorboard\n",
    "    log_dir=\"/srv/notebooks/logs/fit/\" + datetime.datetime.now().strftime(\"%Y%m%d-%H%M%S\")\n",
    "    tensorboard_callback = tf.keras.callbacks.TensorBoard(log_dir=log_dir, histogram_freq=1, embeddings_freq=1)\n",
    "    # run the training\n",
    "    returns['fit_history'] = model.fit(x=X_train,\n",
    "                                       y=Y_train, \n",
    "                                       verbose=2, \n",
    "                                       epochs=model_epochs, \n",
    "                                       batch_size=model_batch_size, \n",
    "                                       validation_data=(X_val, Y_val),\n",
    "                                       callbacks=[tensorboard_callback,EarlyStopping(monitor='val_loss', min_delta=0, patience=10, verbose=0, mode='auto')])\n",
    "    # memorize parameters\n",
    "    returns['model_epochs'] = model_epochs\n",
    "    returns['model_batch_size'] = model_batch_size\n",
    "    returns['model_loss_acc'] = model.evaluate(x = X, y = Y)\n",
    "    return returns"
   ]
  },
  {
   "cell_type": "code",
   "execution_count": 37,
   "metadata": {},
   "outputs": [
    {
     "name": "stdout",
     "output_type": "stream",
     "text": [
      "Train on 711 samples, validate on 178 samples\n",
      "Epoch 1/300\n",
      "711/711 - 2s - loss: 0.6978 - accuracy: 0.5795 - val_loss: 0.6742 - val_accuracy: 0.6461\n",
      "Epoch 2/300\n",
      "711/711 - 0s - loss: 0.6839 - accuracy: 0.6034 - val_loss: 0.6740 - val_accuracy: 0.6461\n",
      "Epoch 3/300\n",
      "711/711 - 0s - loss: 0.6753 - accuracy: 0.5893 - val_loss: 0.6436 - val_accuracy: 0.6461\n",
      "Epoch 4/300\n",
      "711/711 - 0s - loss: 0.6604 - accuracy: 0.6174 - val_loss: 0.6117 - val_accuracy: 0.6461\n",
      "Epoch 5/300\n",
      "711/711 - 0s - loss: 0.6420 - accuracy: 0.6259 - val_loss: 0.6214 - val_accuracy: 0.6573\n",
      "Epoch 6/300\n",
      "711/711 - 0s - loss: 0.6455 - accuracy: 0.6456 - val_loss: 0.5762 - val_accuracy: 0.7135\n",
      "Epoch 7/300\n",
      "711/711 - 0s - loss: 0.6305 - accuracy: 0.6610 - val_loss: 0.5381 - val_accuracy: 0.7978\n",
      "Epoch 8/300\n",
      "711/711 - 0s - loss: 0.5979 - accuracy: 0.6793 - val_loss: 0.5147 - val_accuracy: 0.7978\n",
      "Epoch 9/300\n",
      "711/711 - 0s - loss: 0.5975 - accuracy: 0.6920 - val_loss: 0.5018 - val_accuracy: 0.7921\n",
      "Epoch 10/300\n",
      "711/711 - 0s - loss: 0.6210 - accuracy: 0.6779 - val_loss: 0.4444 - val_accuracy: 0.8090\n",
      "Epoch 11/300\n",
      "711/711 - 0s - loss: 0.5713 - accuracy: 0.7173 - val_loss: 0.4755 - val_accuracy: 0.8090\n",
      "Epoch 12/300\n",
      "711/711 - 0s - loss: 0.5854 - accuracy: 0.7243 - val_loss: 0.4533 - val_accuracy: 0.8258\n",
      "Epoch 13/300\n",
      "711/711 - 0s - loss: 0.5160 - accuracy: 0.7581 - val_loss: 0.4389 - val_accuracy: 0.7921\n",
      "Epoch 14/300\n",
      "711/711 - 0s - loss: 0.5594 - accuracy: 0.7468 - val_loss: 0.4607 - val_accuracy: 0.8146\n",
      "Epoch 15/300\n",
      "711/711 - 0s - loss: 0.5419 - accuracy: 0.7511 - val_loss: 0.4427 - val_accuracy: 0.8258\n",
      "Epoch 16/300\n",
      "711/711 - 0s - loss: 0.5297 - accuracy: 0.7665 - val_loss: 0.4334 - val_accuracy: 0.8315\n",
      "Epoch 17/300\n",
      "711/711 - 0s - loss: 0.5564 - accuracy: 0.7525 - val_loss: 0.4315 - val_accuracy: 0.8258\n",
      "Epoch 18/300\n",
      "711/711 - 0s - loss: 0.5292 - accuracy: 0.7581 - val_loss: 0.4216 - val_accuracy: 0.8202\n",
      "Epoch 19/300\n",
      "711/711 - 0s - loss: 0.5256 - accuracy: 0.7496 - val_loss: 0.4263 - val_accuracy: 0.8090\n",
      "Epoch 20/300\n",
      "711/711 - 0s - loss: 0.5272 - accuracy: 0.7637 - val_loss: 0.4346 - val_accuracy: 0.8090\n",
      "Epoch 21/300\n",
      "711/711 - 0s - loss: 0.5498 - accuracy: 0.7722 - val_loss: 0.4381 - val_accuracy: 0.8371\n",
      "Epoch 22/300\n",
      "711/711 - 0s - loss: 0.4965 - accuracy: 0.7806 - val_loss: 0.4354 - val_accuracy: 0.8146\n",
      "Epoch 23/300\n",
      "711/711 - 0s - loss: 0.5061 - accuracy: 0.7778 - val_loss: 0.4135 - val_accuracy: 0.8258\n",
      "Epoch 24/300\n",
      "711/711 - 0s - loss: 0.4892 - accuracy: 0.7904 - val_loss: 0.3945 - val_accuracy: 0.8427\n",
      "Epoch 25/300\n",
      "711/711 - 0s - loss: 0.4954 - accuracy: 0.7947 - val_loss: 0.3632 - val_accuracy: 0.8483\n",
      "Epoch 26/300\n",
      "711/711 - 0s - loss: 0.5102 - accuracy: 0.7876 - val_loss: 0.4035 - val_accuracy: 0.8315\n",
      "Epoch 27/300\n",
      "711/711 - 0s - loss: 0.4903 - accuracy: 0.7918 - val_loss: 0.3969 - val_accuracy: 0.8427\n",
      "Epoch 28/300\n",
      "711/711 - 0s - loss: 0.4835 - accuracy: 0.7947 - val_loss: 0.3888 - val_accuracy: 0.8483\n",
      "Epoch 29/300\n",
      "711/711 - 0s - loss: 0.5077 - accuracy: 0.7876 - val_loss: 0.4001 - val_accuracy: 0.8596\n",
      "Epoch 30/300\n",
      "711/711 - 0s - loss: 0.5123 - accuracy: 0.7750 - val_loss: 0.4018 - val_accuracy: 0.8483\n",
      "Epoch 31/300\n",
      "711/711 - 0s - loss: 0.4642 - accuracy: 0.8087 - val_loss: 0.3901 - val_accuracy: 0.8483\n",
      "Epoch 32/300\n",
      "711/711 - 0s - loss: 0.5053 - accuracy: 0.7848 - val_loss: 0.3928 - val_accuracy: 0.8258\n",
      "Epoch 33/300\n",
      "711/711 - 0s - loss: 0.4978 - accuracy: 0.7918 - val_loss: 0.4181 - val_accuracy: 0.8596\n",
      "Epoch 34/300\n",
      "711/711 - 0s - loss: 0.4702 - accuracy: 0.8101 - val_loss: 0.3834 - val_accuracy: 0.8483\n",
      "Epoch 35/300\n",
      "711/711 - 0s - loss: 0.5010 - accuracy: 0.7932 - val_loss: 0.3996 - val_accuracy: 0.8539\n",
      "889/889 [==============================] - 0s 386us/sample - loss: 0.3980 - accuracy: 0.8549\n",
      "[0.3979502006845614, 0.85489315]\n"
     ]
    }
   ],
   "source": [
    "returns = fit(model,df,param)\n",
    "print(returns['model_loss_acc'])"
   ]
  },
  {
   "cell_type": "markdown",
   "metadata": {},
   "source": [
    "## Stage 4 - apply the model"
   ]
  },
  {
   "cell_type": "code",
   "execution_count": 18,
   "metadata": {
    "deletable": false,
    "name": "mltkc_apply"
   },
   "outputs": [],
   "source": [
    "# mltkc_stage_create_model_apply\n",
    "def apply(model,df,param):\n",
    "    X = df[param['feature_variables']]\n",
    "    y_hat = model.predict(x = X, verbose=0)\n",
    "    return y_hat"
   ]
  },
  {
   "cell_type": "code",
   "execution_count": 19,
   "metadata": {},
   "outputs": [],
   "source": [
    "# test mltkc_stage_create_model_apply\n",
    "y_hat = apply(model,df,param)\n",
    "#print(y_hat)"
   ]
  },
  {
   "cell_type": "markdown",
   "metadata": {},
   "source": [
    "## Stage 5 - save the model"
   ]
  },
  {
   "cell_type": "code",
   "execution_count": 20,
   "metadata": {
    "deletable": false,
    "name": "mltkc_save"
   },
   "outputs": [],
   "source": [
    "# save model to name in expected convention \"<algo_name>_<model_name>.h5\"\n",
    "def save(model,name):\n",
    "    # save keras model to hdf5 file\n",
    "    # https://www.tensorflow.org/beta/tutorials/keras/save_and_restore_models\n",
    "    model.save(MODEL_DIRECTORY + name + \".h5\")\n",
    "    return model"
   ]
  },
  {
   "cell_type": "markdown",
   "metadata": {},
   "source": [
    "## Stage 6 - load the model"
   ]
  },
  {
   "cell_type": "code",
   "execution_count": 21,
   "metadata": {
    "deletable": false,
    "name": "mltkc_load"
   },
   "outputs": [],
   "source": [
    "# load model from name in expected convention \"<algo_name>_<model_name>.h5\"\n",
    "def load(name):\n",
    "    model = keras.models.load_model(MODEL_DIRECTORY + name + \".h5\")\n",
    "    return model"
   ]
  },
  {
   "cell_type": "markdown",
   "metadata": {},
   "source": [
    "## Stage 7 - provide a summary of the model"
   ]
  },
  {
   "cell_type": "code",
   "execution_count": 22,
   "metadata": {
    "deletable": false,
    "name": "mltkc_summary"
   },
   "outputs": [],
   "source": [
    "# return model summary\n",
    "def summary(model=None):\n",
    "    returns = {\"version\": {\"tensorflow\": tf.__version__, \"keras\": keras.__version__} }\n",
    "    if model is not None:\n",
    "        # Save keras model summary to string:\n",
    "        s = []\n",
    "        model.summary(print_fn=lambda x: s.append(x+'\\n'))\n",
    "        returns[\"summary\"] = ''.join(s)\n",
    "    return returns"
   ]
  },
  {
   "cell_type": "markdown",
   "metadata": {},
   "source": [
    "## End of Stages\n",
    "All subsequent cells are not tagged and can be used for further freeform code"
   ]
  },
  {
   "cell_type": "markdown",
   "metadata": {},
   "source": [
    "# Fit SPL"
   ]
  },
  {
   "cell_type": "markdown",
   "metadata": {},
   "source": [
    "| inputlookup  titanic-train.csv\n",
    "| fit Imputer Age strategy=mean | eval Age = round(Imputed_Age / 90,1)  | fields - Imputed_Age\n",
    "| search Embarked = * \n",
    "| eval SibSp = case(SibSp=0,\"S0\", SibSp=1,\"S1\", SibSp=2,\"S2\", SibSp=3,\"S3\", SibSp=4,\"S4\", SibSp=5,\"S5\",1=1,\"S_More\")\n",
    "| eval Parch = case(Parch=0,\"P0\", Parch=1,\"P1\", Parch=2,\"P2\", Parch=3,\"P3\", Parch=4,\"P4\", Parch=5,\"P5\",1=1,\"P_More\")\n",
    "| eventstats max(Fare) as max_Fare\n",
    "| eval Fare =  round(Fare/max_Fare,1) | eval Fare = \"F_\" + Fare, Age = \"Age_\" + Age  | fields - max_Fare\n",
    "| rex field=Name \"\\,\\s(?<title>\\w+)\"  | fields - Name \n",
    "| eval title = case(title=\"Mr\",\"Mr\", title=\"Miss\", \"Miss\", title=\"Mrs\",\"Mrs\",title=\"Master\",\"Mastar\",1=1,\"Other\")\n",
    "| rex field=Ticket \"(?<TicketNo>\\d+)$\" | fields - Ticket\n",
    "| bin TicketNo span=100000\n",
    "| eval TicketNo = case(TicketNo=\"0-100000\",\"No0\", TicketNo=\"100000-200000\", \"No100000\", TicketNo=\"200000-300000\", \"No200000\",TicketNo=\"300000-400000\",\"No300000\",1=1,\"NoOther\")\n",
    "| rex field=Cabin \"(?<Cabin>\\w)\" \n",
    "| eval Cabin = case(Cabin=\"T\",\"Cabin_Unknown\",Cabin=\"C\",\"Cabin_C\", isnull(Cabin),\"Cabin_Unknown\",1=1,Cabin)\n",
    "| eval {Pclass} = 1, {Sex} = 1, {Embarked} =1, {title}=1, {Cabin} = 1, {TicketNo}=1, {SibSp}=1,{Parch}=1, {Fare} =1, {Age} = 1\n",
    "| fillnull\n",
    "| fields - Pclass, Sex, Embarked, title, count, Cabin, TicketNo, Fare, SibSp, Parch,Age, PassengerId, \"Age_0.9\"\n",
    "| fit MLTKContainer algo=mytitanic3 Survived from * into app:mytitanic3_model\n",
    "| eval predict = if(predicted_Survived > 0.5 , 1,0) \n",
    "| score f1_score Survived against predict"
   ]
  },
  {
   "cell_type": "markdown",
   "metadata": {},
   "source": [
    "# Apply SPL"
   ]
  },
  {
   "cell_type": "markdown",
   "metadata": {},
   "source": [
    "| inputlookup  titanic-test.csv\n",
    "| fit Imputer Age strategy=mean | eval Age = round(Imputed_Age / 90,1)  | fields - Imputed_Age\n",
    "| search Embarked = * \n",
    "| eval SibSp = case(SibSp=0,\"S0\", SibSp=1,\"S1\", SibSp=2,\"S2\", SibSp=3,\"S3\", SibSp=4,\"S4\", SibSp=5,\"S5\",1=1,\"S_More\")\n",
    "| eval Parch = case(Parch=0,\"P0\", Parch=1,\"P1\", Parch=2,\"P2\", Parch=3,\"P3\", Parch=4,\"P4\", Parch=5,\"P5\",1=1,\"P_More\")\n",
    "| eventstats max(Fare) as max_Fare\n",
    "| eval Fare =  round(Fare/max_Fare,1) | eval Fare = \"F_\" + Fare, Age = \"Age_\" + Age  | fields - max_Fare\n",
    "| rex field=Name \"\\,\\s(?<title>\\w+)\"  | fields - Name \n",
    "| eval title = case(title=\"Mr\",\"Mr\", title=\"Miss\", \"Miss\", title=\"Mrs\",\"Mrs\",title=\"Master\",\"Mastar\",1=1,\"Other\")\n",
    "| rex field=Ticket \"(?<TicketNo>\\d+)$\" | fields - Ticket\n",
    "| bin TicketNo span=100000\n",
    "| eval TicketNo = case(TicketNo=\"0-100000\",\"No0\", TicketNo=\"100000-200000\", \"No100000\", TicketNo=\"200000-300000\", \"No200000\",TicketNo=\"300000-400000\",\"No300000\",1=1,\"NoOther\")\n",
    "| rex field=Cabin \"(?<Cabin>\\w)\" \n",
    "| eval Cabin = case(Cabin=\"T\",\"Cabin_Unknown\",Cabin=\"C\",\"Cabin_C\", isnull(Cabin),\"Cabin_Unknown\",1=1,Cabin)\n",
    "| eval {Pclass} = 1, {Sex} = 1, {Embarked} =1, {title}=1, {Cabin} = 1, {TicketNo}=1, {SibSp}=1,{Parch}=1, {Fare} =1, {Age} = 1\n",
    "| fillnull\n",
    "| fields - Pclass, Sex, Embarked, title, count, Cabin, TicketNo, Fare, SibSp, Parch,Age\n",
    "| apply app:mytitanic3_model \n",
    "| eval Survived = if(predicted_Survived > 0.5 , 1,0) \n",
    "| table PassengerId Survived"
   ]
  }
 ],
 "metadata": {
  "kernelspec": {
   "display_name": "Python 3",
   "language": "python",
   "name": "python3"
  },
  "language_info": {
   "codemirror_mode": {
    "name": "ipython",
    "version": 3
   },
   "file_extension": ".py",
   "mimetype": "text/x-python",
   "name": "python",
   "nbconvert_exporter": "python",
   "pygments_lexer": "ipython3",
   "version": "3.6.8"
  }
 },
 "nbformat": 4,
 "nbformat_minor": 4
}
